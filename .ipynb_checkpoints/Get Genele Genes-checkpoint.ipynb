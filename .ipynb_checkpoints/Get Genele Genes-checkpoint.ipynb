{
 "cells": [
  {
   "cell_type": "code",
   "execution_count": 1,
   "id": "d13d92bc-7fdf-4ca2-a8ce-7691501ed0b2",
   "metadata": {},
   "outputs": [],
   "source": [
    "import pandas as pd\n",
    "import re\n",
    "from tqdm.notebook import tqdm"
   ]
  },
  {
   "cell_type": "markdown",
   "id": "ed2efa60-dda4-41a1-a0ac-74e88abf79ed",
   "metadata": {},
   "source": [
    "## Load in Genele source"
   ]
  },
  {
   "cell_type": "code",
   "execution_count": 2,
   "id": "c19d39ae-00f0-4b49-9502-0e798d3030ae",
   "metadata": {},
   "outputs": [],
   "source": [
    "with open('genele_src.rtf','r') as f:\n",
    "    src = f.read()"
   ]
  },
  {
   "cell_type": "markdown",
   "id": "7066dccb-b729-4cf3-b759-3733934157cc",
   "metadata": {},
   "source": [
    "### Look for a known gene symbol to find the list of possible answers"
   ]
  },
  {
   "cell_type": "code",
   "execution_count": 3,
   "id": "738ad66a-fc00-4564-a9dc-1052eaacc7bb",
   "metadata": {},
   "outputs": [
    {
     "data": {
      "text/plain": [
       "2"
      ]
     },
     "execution_count": 3,
     "metadata": {},
     "output_type": "execute_result"
    }
   ],
   "source": [
    "src.count('braf')"
   ]
  },
  {
   "cell_type": "markdown",
   "id": "7ce43248-de61-4bac-a0d8-f3dd54edcb2e",
   "metadata": {},
   "source": [
    "\"BRAF\" appears twice; separate lists for valid guesses and valid answers?\n",
    "\n",
    "Let's see how it's formatted so we can retrieve the full list"
   ]
  },
  {
   "cell_type": "code",
   "execution_count": 4,
   "id": "bf275a18-99dc-4b0e-8265-23974d23ed49",
   "metadata": {},
   "outputs": [
    {
     "data": {
      "text/plain": [
       "195726"
      ]
     },
     "execution_count": 4,
     "metadata": {},
     "output_type": "execute_result"
    }
   ],
   "source": [
    "a = src.index('braf')\n",
    "a"
   ]
  },
  {
   "cell_type": "code",
   "execution_count": 5,
   "id": "a74229b0-3d40-4d10-8dca-ec5b3a7326e7",
   "metadata": {},
   "outputs": [
    {
     "data": {
      "text/plain": [
       "',\"fkbp5\",\"braf \",\"nk'"
      ]
     },
     "execution_count": 5,
     "metadata": {},
     "output_type": "execute_result"
    }
   ],
   "source": [
    "src[a-10:a+10]"
   ]
  },
  {
   "cell_type": "code",
   "execution_count": null,
   "id": "d5e83912-579f-46b9-a8f2-17aedad2f1e9",
   "metadata": {},
   "outputs": [],
   "source": []
  },
  {
   "cell_type": "code",
   "execution_count": 6,
   "id": "be9b9b9a-abea-4c64-bf0c-baed1c9707dd",
   "metadata": {},
   "outputs": [
    {
     "data": {
      "text/plain": [
       "153736"
      ]
     },
     "execution_count": 6,
     "metadata": {},
     "output_type": "execute_result"
    }
   ],
   "source": [
    "src.index(',ce=')"
   ]
  },
  {
   "cell_type": "code",
   "execution_count": 7,
   "id": "4e560095-b92a-40ce-b700-a53f58ddb469",
   "metadata": {},
   "outputs": [],
   "source": [
    "list_strings = re.findall(r'(\\[\\\"+[a-z\\d,\\\"\\s]+\\],)', src)\n",
    "list_strings = re.findall(r'ce\\=(\\[.+\\]),pe\\=function', src)"
   ]
  },
  {
   "cell_type": "code",
   "execution_count": 8,
   "id": "afc00c57-5400-4d5f-99a0-0d61875e0492",
   "metadata": {},
   "outputs": [
    {
     "data": {
      "text/plain": [
       "1"
      ]
     },
     "execution_count": 8,
     "metadata": {},
     "output_type": "execute_result"
    }
   ],
   "source": [
    "len(list_strings)"
   ]
  },
  {
   "cell_type": "code",
   "execution_count": 9,
   "id": "f24de012-f2b6-4794-a118-487f3deff512",
   "metadata": {},
   "outputs": [],
   "source": [
    "genes_string = list_strings[0]"
   ]
  },
  {
   "cell_type": "code",
   "execution_count": 10,
   "id": "b1259348-d379-4f40-84d3-2034051b31ac",
   "metadata": {},
   "outputs": [
    {
     "data": {
      "text/plain": [
       "11499"
      ]
     },
     "execution_count": 10,
     "metadata": {},
     "output_type": "execute_result"
    }
   ],
   "source": [
    "bracket_close1 = genes_string[1:].find(']')\n",
    "genes_string1 = genes_string[1:bracket_close1]\n",
    "genes_string1 = genes_string1.replace('\"','')\n",
    "genes1 = genes_string1.split(',')\n",
    "len(genes1)"
   ]
  },
  {
   "cell_type": "code",
   "execution_count": 11,
   "id": "d38b2998-15ff-4884-b425-53981c2cbe40",
   "metadata": {},
   "outputs": [
    {
     "data": {
      "text/plain": [
       "11499"
      ]
     },
     "execution_count": 11,
     "metadata": {},
     "output_type": "execute_result"
    }
   ],
   "source": [
    "bracket_open2 = genes_string[1:].find('[')\n",
    "\n",
    "genes_string2 = genes_string[bracket_open2+2:]\n",
    "bracket_close2 = genes_string2.find(']')\n",
    "genes_string2 = genes_string2[:bracket_close2]\n",
    "genes_string2 = genes_string2.replace('\"','')\n",
    "genes2 = genes_string2.split(',')\n",
    "len(genes2)"
   ]
  },
  {
   "cell_type": "code",
   "execution_count": 12,
   "id": "e9a4d7d4-85dc-4a4d-b5a6-8eddbbe8dff4",
   "metadata": {},
   "outputs": [
    {
     "data": {
      "text/plain": [
       "True"
      ]
     },
     "execution_count": 12,
     "metadata": {},
     "output_type": "execute_result"
    }
   ],
   "source": [
    "set(genes1)==set(genes2)"
   ]
  },
  {
   "cell_type": "code",
   "execution_count": 13,
   "id": "921eca2b-067e-4aad-a311-d2fb3f6b8d63",
   "metadata": {},
   "outputs": [],
   "source": [
    "genes = genes1"
   ]
  },
  {
   "cell_type": "code",
   "execution_count": 14,
   "id": "eb640e0e-a47b-4948-ab8c-4ba1b2f011de",
   "metadata": {},
   "outputs": [],
   "source": [
    "dg = pd.DataFrame(genes,columns=['symbol'])"
   ]
  },
  {
   "cell_type": "code",
   "execution_count": 15,
   "id": "2bd95d72-27fc-4d43-8e3d-f07f33470b52",
   "metadata": {},
   "outputs": [],
   "source": [
    "dg.to_csv('genele-genes.csv',index=False)"
   ]
  },
  {
   "cell_type": "code",
   "execution_count": null,
   "id": "9cac6e7f-5256-4262-9c91-97495d22ab7d",
   "metadata": {},
   "outputs": [],
   "source": []
  }
 ],
 "metadata": {
  "kernelspec": {
   "display_name": "Python 3 (ipykernel)",
   "language": "python",
   "name": "python3"
  },
  "language_info": {
   "codemirror_mode": {
    "name": "ipython",
    "version": 3
   },
   "file_extension": ".py",
   "mimetype": "text/x-python",
   "name": "python",
   "nbconvert_exporter": "python",
   "pygments_lexer": "ipython3",
   "version": "3.9.13"
  }
 },
 "nbformat": 4,
 "nbformat_minor": 5
}
