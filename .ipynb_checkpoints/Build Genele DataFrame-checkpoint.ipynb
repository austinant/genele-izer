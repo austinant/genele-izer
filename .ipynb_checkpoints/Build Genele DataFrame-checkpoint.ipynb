{
 "cells": [
  {
   "cell_type": "code",
   "execution_count": 9,
   "metadata": {},
   "outputs": [],
   "source": [
    "import pandas as pd\n",
    "import numpy as np\n",
    "from tqdm.notebook import tqdm\n",
    "from math import log2\n",
    "import plotly.graph_objects as go"
   ]
  },
  {
   "cell_type": "code",
   "execution_count": 10,
   "metadata": {},
   "outputs": [],
   "source": [
    "dg = pd.read_csv('genele-genes.csv')\n",
    "dg['symbol']=dg['symbol'].str.upper()"
   ]
  },
  {
   "cell_type": "code",
   "execution_count": 11,
   "metadata": {},
   "outputs": [],
   "source": [
    "### add info columns\n",
    "\n",
    "dg['len'] = dg['symbol'].str.len()\n",
    "dg['distinct'] = dg['symbol'].apply(lambda x: len(set(x)))\n",
    "\n",
    "dg = dg[dg['len'].isin([3,4,5])].copy()\n",
    "dg = dg[~dg['symbol'].str.contains('-')].copy()\n",
    "\n",
    "\n",
    "dg['padded_symbol'] = dg['symbol'].apply(lambda s: s.ljust(5))\n",
    "for i in range(0,5):\n",
    "    dg[f'char{i+1}'] = dg['padded_symbol'].apply(lambda x: x[i])"
   ]
  },
  {
   "cell_type": "code",
   "execution_count": 12,
   "metadata": {},
   "outputs": [],
   "source": [
    "from collections import Counter\n",
    "from frequency import char_frequency, symbol_frequency, position_frequency"
   ]
  },
  {
   "cell_type": "code",
   "execution_count": 13,
   "metadata": {},
   "outputs": [],
   "source": [
    "### initialize character freq dicts based on full corpus\n",
    "freq_char = char_frequency(dg['padded_symbol'])\n",
    "freq_symb = symbol_frequency(dg['padded_symbol'])\n",
    "freq_pos = position_frequency(dg['padded_symbol'])"
   ]
  },
  {
   "cell_type": "code",
   "execution_count": 15,
   "metadata": {},
   "outputs": [],
   "source": [
    "from frequency import freq_score_sum, freq_score_sum_distinct, freq_score_sum_pos\n",
    "\n",
    "dg['freq_char'] = dg['padded_symbol'].apply(lambda x:freq_score_sum(x,frequency=freq_char)/(5*len(dg)))\n",
    "dg['freq_char_dist'] = dg['padded_symbol'].apply(lambda x:freq_score_sum_distinct(x,frequency=freq_char)/(len(set(x))*len(dg)))\n",
    "dg['freq_symbol'] = dg['padded_symbol'].apply(lambda x:freq_score_sum(x,frequency=freq_symb)/(5*len(dg)))\n",
    "dg['freq_symbol_dist'] = dg['padded_symbol'].apply(lambda x:freq_score_sum_distinct(x,frequency=freq_symb)/(len(set(x))*len(dg)))\n",
    "dg['freq_pos'] = dg['padded_symbol'].apply(lambda x:freq_score_sum_pos(x,frequency=freq_pos))/(5*len(dg))"
   ]
  },
  {
   "cell_type": "code",
   "execution_count": 16,
   "metadata": {},
   "outputs": [],
   "source": [
    "dg = dg.sort_values('freq_pos', ascending=0)"
   ]
  },
  {
   "cell_type": "code",
   "execution_count": 17,
   "metadata": {},
   "outputs": [
    {
     "data": {
      "text/html": [
       "<div>\n",
       "<style scoped>\n",
       "    .dataframe tbody tr th:only-of-type {\n",
       "        vertical-align: middle;\n",
       "    }\n",
       "\n",
       "    .dataframe tbody tr th {\n",
       "        vertical-align: top;\n",
       "    }\n",
       "\n",
       "    .dataframe thead th {\n",
       "        text-align: right;\n",
       "    }\n",
       "</style>\n",
       "<table border=\"1\" class=\"dataframe\">\n",
       "  <thead>\n",
       "    <tr style=\"text-align: right;\">\n",
       "      <th></th>\n",
       "      <th>symbol</th>\n",
       "      <th>len</th>\n",
       "      <th>distinct</th>\n",
       "      <th>padded_symbol</th>\n",
       "      <th>char1</th>\n",
       "      <th>char2</th>\n",
       "      <th>char3</th>\n",
       "      <th>char4</th>\n",
       "      <th>char5</th>\n",
       "      <th>freq_char</th>\n",
       "      <th>freq_char_dist</th>\n",
       "      <th>freq_symbol</th>\n",
       "      <th>freq_symbol_dist</th>\n",
       "      <th>freq_pos</th>\n",
       "    </tr>\n",
       "  </thead>\n",
       "  <tbody>\n",
       "    <tr>\n",
       "      <th>10907</th>\n",
       "      <td>CAP1</td>\n",
       "      <td>5</td>\n",
       "      <td>5</td>\n",
       "      <td>CAP1</td>\n",
       "      <td>C</td>\n",
       "      <td>A</td>\n",
       "      <td>P</td>\n",
       "      <td>1</td>\n",
       "      <td></td>\n",
       "      <td>0.325680</td>\n",
       "      <td>0.325680</td>\n",
       "      <td>0.296130</td>\n",
       "      <td>0.296130</td>\n",
       "      <td>0.155405</td>\n",
       "    </tr>\n",
       "    <tr>\n",
       "      <th>4583</th>\n",
       "      <td>PRC1</td>\n",
       "      <td>5</td>\n",
       "      <td>5</td>\n",
       "      <td>PRC1</td>\n",
       "      <td>P</td>\n",
       "      <td>R</td>\n",
       "      <td>C</td>\n",
       "      <td>1</td>\n",
       "      <td></td>\n",
       "      <td>0.323959</td>\n",
       "      <td>0.323959</td>\n",
       "      <td>0.296652</td>\n",
       "      <td>0.296652</td>\n",
       "      <td>0.152118</td>\n",
       "    </tr>\n",
       "    <tr>\n",
       "      <th>1035</th>\n",
       "      <td>RRP1</td>\n",
       "      <td>5</td>\n",
       "      <td>4</td>\n",
       "      <td>RRP1</td>\n",
       "      <td>R</td>\n",
       "      <td>R</td>\n",
       "      <td>P</td>\n",
       "      <td>1</td>\n",
       "      <td></td>\n",
       "      <td>0.322237</td>\n",
       "      <td>0.333746</td>\n",
       "      <td>0.297922</td>\n",
       "      <td>0.306896</td>\n",
       "      <td>0.149752</td>\n",
       "    </tr>\n",
       "    <tr>\n",
       "      <th>10218</th>\n",
       "      <td>CCR1</td>\n",
       "      <td>5</td>\n",
       "      <td>4</td>\n",
       "      <td>CCR1</td>\n",
       "      <td>C</td>\n",
       "      <td>C</td>\n",
       "      <td>R</td>\n",
       "      <td>1</td>\n",
       "      <td></td>\n",
       "      <td>0.314706</td>\n",
       "      <td>0.322180</td>\n",
       "      <td>0.287886</td>\n",
       "      <td>0.295939</td>\n",
       "      <td>0.149717</td>\n",
       "    </tr>\n",
       "    <tr>\n",
       "      <th>9481</th>\n",
       "      <td>SRA1</td>\n",
       "      <td>5</td>\n",
       "      <td>5</td>\n",
       "      <td>SRA1</td>\n",
       "      <td>S</td>\n",
       "      <td>R</td>\n",
       "      <td>A</td>\n",
       "      <td>1</td>\n",
       "      <td></td>\n",
       "      <td>0.300078</td>\n",
       "      <td>0.300078</td>\n",
       "      <td>0.277415</td>\n",
       "      <td>0.277415</td>\n",
       "      <td>0.149665</td>\n",
       "    </tr>\n",
       "  </tbody>\n",
       "</table>\n",
       "</div>"
      ],
      "text/plain": [
       "      symbol  len  distinct padded_symbol char1 char2 char3 char4 char5  \\\n",
       "10907  CAP1     5         5         CAP1      C     A     P     1         \n",
       "4583   PRC1     5         5         PRC1      P     R     C     1         \n",
       "1035   RRP1     5         4         RRP1      R     R     P     1         \n",
       "10218  CCR1     5         4         CCR1      C     C     R     1         \n",
       "9481   SRA1     5         5         SRA1      S     R     A     1         \n",
       "\n",
       "       freq_char  freq_char_dist  freq_symbol  freq_symbol_dist  freq_pos  \n",
       "10907   0.325680        0.325680     0.296130          0.296130  0.155405  \n",
       "4583    0.323959        0.323959     0.296652          0.296652  0.152118  \n",
       "1035    0.322237        0.333746     0.297922          0.306896  0.149752  \n",
       "10218   0.314706        0.322180     0.287886          0.295939  0.149717  \n",
       "9481    0.300078        0.300078     0.277415          0.277415  0.149665  "
      ]
     },
     "execution_count": 17,
     "metadata": {},
     "output_type": "execute_result"
    }
   ],
   "source": [
    "dg.head()"
   ]
  },
  {
   "cell_type": "code",
   "execution_count": 18,
   "metadata": {},
   "outputs": [],
   "source": [
    "dg.to_csv('genele-info-dataframe.csv',index=False)"
   ]
  },
  {
   "cell_type": "code",
   "execution_count": null,
   "metadata": {},
   "outputs": [],
   "source": []
  }
 ],
 "metadata": {
  "kernelspec": {
   "display_name": "Python 3 (ipykernel)",
   "language": "python",
   "name": "python3"
  },
  "language_info": {
   "codemirror_mode": {
    "name": "ipython",
    "version": 3
   },
   "file_extension": ".py",
   "mimetype": "text/x-python",
   "name": "python",
   "nbconvert_exporter": "python",
   "pygments_lexer": "ipython3",
   "version": "3.9.13"
  }
 },
 "nbformat": 4,
 "nbformat_minor": 4
}
